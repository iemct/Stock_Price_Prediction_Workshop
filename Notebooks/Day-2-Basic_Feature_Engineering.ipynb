{
  "nbformat": 4,
  "nbformat_minor": 5,
  "metadata": {
    "kernelspec": {
      "display_name": "Python 3",
      "language": "python",
      "name": "python3"
    },
    "language_info": {
      "codemirror_mode": {
        "name": "ipython",
        "version": 3
      },
      "file_extension": ".py",
      "mimetype": "text/x-python",
      "name": "python",
      "nbconvert_exporter": "python",
      "pygments_lexer": "ipython3",
      "version": "3.8.8"
    },
    "colab": {
      "name": "Stock_Price_Prediction_IEMCT-ESOM.ipynb",
      "provenance": [],
      "collapsed_sections": []
    }
  },
  "cells": [
    {
      "cell_type": "markdown",
      "metadata": {
        "id": "mTkOeBO_5iag"
      },
      "source": [
        "### Importing Important Libraries "
      ],
      "id": "mTkOeBO_5iag"
    },
    {
      "cell_type": "code",
      "metadata": {
        "id": "78c43a6f"
      },
      "source": [
        "import pandas as pd\n",
        "import numpy as np\n",
        "import seaborn as sns\n",
        "import matplotlib.pyplot as plt\n"
      ],
      "id": "78c43a6f",
      "execution_count": 1,
      "outputs": []
    },
    {
      "cell_type": "markdown",
      "metadata": {
        "id": "t9oc7Ka25uA5"
      },
      "source": [
        "### Downloading Dataset"
      ],
      "id": "t9oc7Ka25uA5"
    },
    {
      "cell_type": "code",
      "metadata": {
        "colab": {
          "base_uri": "https://localhost:8080/"
        },
        "id": "sS624fe9sbu8",
        "outputId": "8b24c194-4824-4ce1-b976-e7f95bcba9cc"
      },
      "source": [
        "%%bash\n",
        "wget https://www.dropbox.com/s/cuqptq9u60wkh4s/IOC.csv"
      ],
      "id": "sS624fe9sbu8",
      "execution_count": 2,
      "outputs": [
        {
          "output_type": "stream",
          "name": "stderr",
          "text": [
            "--2021-10-15 14:09:35--  https://www.dropbox.com/s/cuqptq9u60wkh4s/IOC.csv\n",
            "Resolving www.dropbox.com (www.dropbox.com)... 162.125.3.18, 2620:100:6018:18::a27d:312\n",
            "Connecting to www.dropbox.com (www.dropbox.com)|162.125.3.18|:443... connected.\n",
            "HTTP request sent, awaiting response... 301 Moved Permanently\n",
            "Location: /s/raw/cuqptq9u60wkh4s/IOC.csv [following]\n",
            "--2021-10-15 14:09:35--  https://www.dropbox.com/s/raw/cuqptq9u60wkh4s/IOC.csv\n",
            "Reusing existing connection to www.dropbox.com:443.\n",
            "HTTP request sent, awaiting response... 302 Found\n",
            "Location: https://uce1568d78047217a58f7712800b.dl.dropboxusercontent.com/cd/0/inline/BYE-0OUfVcbWhsR4IK6PcLEahDt_zHCkHsB9ltNO4z-tdDfU8JoDzuG8xEy4v_3ibePhD6AqT5gPqE1gd6PyhCodC10ckH3Kyr7pPHbMssyUzgqYoVzdSeed1jaRofIelGuWjBGlvhNEOjZXVdLq-SG3/file# [following]\n",
            "--2021-10-15 14:09:36--  https://uce1568d78047217a58f7712800b.dl.dropboxusercontent.com/cd/0/inline/BYE-0OUfVcbWhsR4IK6PcLEahDt_zHCkHsB9ltNO4z-tdDfU8JoDzuG8xEy4v_3ibePhD6AqT5gPqE1gd6PyhCodC10ckH3Kyr7pPHbMssyUzgqYoVzdSeed1jaRofIelGuWjBGlvhNEOjZXVdLq-SG3/file\n",
            "Resolving uce1568d78047217a58f7712800b.dl.dropboxusercontent.com (uce1568d78047217a58f7712800b.dl.dropboxusercontent.com)... 162.125.3.15, 2620:100:601d:15::a27d:50f\n",
            "Connecting to uce1568d78047217a58f7712800b.dl.dropboxusercontent.com (uce1568d78047217a58f7712800b.dl.dropboxusercontent.com)|162.125.3.15|:443... connected.\n",
            "HTTP request sent, awaiting response... 200 OK\n",
            "Length: 577891 (564K) [text/plain]\n",
            "Saving to: ‘IOC.csv’\n",
            "\n",
            "     0K .......... .......... .......... .......... ..........  8% 2.98M 0s\n",
            "    50K .......... .......... .......... .......... .......... 17% 5.74M 0s\n",
            "   100K .......... .......... .......... .......... .......... 26% 7.75M 0s\n",
            "   150K .......... .......... .......... .......... .......... 35% 11.5M 0s\n",
            "   200K .......... .......... .......... .......... .......... 44% 13.7M 0s\n",
            "   250K .......... .......... .......... .......... .......... 53% 22.8M 0s\n",
            "   300K .......... .......... .......... .......... .......... 62% 17.0M 0s\n",
            "   350K .......... .......... .......... .......... .......... 70% 15.9M 0s\n",
            "   400K .......... .......... .......... .......... .......... 79% 14.8M 0s\n",
            "   450K .......... .......... .......... .......... .......... 88% 15.3M 0s\n",
            "   500K .......... .......... .......... .......... .......... 97% 17.9M 0s\n",
            "   550K .......... ....                                       100% 52.3M=0.06s\n",
            "\n",
            "2021-10-15 14:09:36 (9.74 MB/s) - ‘IOC.csv’ saved [577891/577891]\n",
            "\n"
          ]
        }
      ]
    },
    {
      "cell_type": "markdown",
      "metadata": {
        "id": "KF63a2tv5ztY"
      },
      "source": [
        "### Reading Dataset"
      ],
      "id": "KF63a2tv5ztY"
    },
    {
      "cell_type": "code",
      "metadata": {
        "colab": {
          "base_uri": "https://localhost:8080/",
          "height": 309
        },
        "id": "c6a4babf",
        "outputId": "d9066b87-4772-4981-c04c-04ad1fcc3f15"
      },
      "source": [
        "df = pd.read_csv(\"IOC.csv\")\n",
        "df.head()"
      ],
      "id": "c6a4babf",
      "execution_count": 3,
      "outputs": [
        {
          "output_type": "execute_result",
          "data": {
            "text/html": [
              "<div>\n",
              "<style scoped>\n",
              "    .dataframe tbody tr th:only-of-type {\n",
              "        vertical-align: middle;\n",
              "    }\n",
              "\n",
              "    .dataframe tbody tr th {\n",
              "        vertical-align: top;\n",
              "    }\n",
              "\n",
              "    .dataframe thead th {\n",
              "        text-align: right;\n",
              "    }\n",
              "</style>\n",
              "<table border=\"1\" class=\"dataframe\">\n",
              "  <thead>\n",
              "    <tr style=\"text-align: right;\">\n",
              "      <th></th>\n",
              "      <th>Date</th>\n",
              "      <th>Symbol</th>\n",
              "      <th>Series</th>\n",
              "      <th>Prev Close</th>\n",
              "      <th>Open</th>\n",
              "      <th>High</th>\n",
              "      <th>Low</th>\n",
              "      <th>Last</th>\n",
              "      <th>Close</th>\n",
              "      <th>VWAP</th>\n",
              "      <th>Volume</th>\n",
              "      <th>Turnover</th>\n",
              "      <th>Trades</th>\n",
              "      <th>Deliverable Volume</th>\n",
              "      <th>%Deliverble</th>\n",
              "    </tr>\n",
              "  </thead>\n",
              "  <tbody>\n",
              "    <tr>\n",
              "      <th>0</th>\n",
              "      <td>2000-01-03</td>\n",
              "      <td>IOC</td>\n",
              "      <td>EQ</td>\n",
              "      <td>254.00</td>\n",
              "      <td>260.0</td>\n",
              "      <td>273.25</td>\n",
              "      <td>250.00</td>\n",
              "      <td>267.35</td>\n",
              "      <td>270.85</td>\n",
              "      <td>258.55</td>\n",
              "      <td>23700</td>\n",
              "      <td>6.127648e+11</td>\n",
              "      <td>NaN</td>\n",
              "      <td>NaN</td>\n",
              "      <td>NaN</td>\n",
              "    </tr>\n",
              "    <tr>\n",
              "      <th>1</th>\n",
              "      <td>2000-01-04</td>\n",
              "      <td>IOC</td>\n",
              "      <td>EQ</td>\n",
              "      <td>270.85</td>\n",
              "      <td>260.0</td>\n",
              "      <td>268.00</td>\n",
              "      <td>254.10</td>\n",
              "      <td>267.00</td>\n",
              "      <td>264.40</td>\n",
              "      <td>259.80</td>\n",
              "      <td>24400</td>\n",
              "      <td>6.339112e+11</td>\n",
              "      <td>NaN</td>\n",
              "      <td>NaN</td>\n",
              "      <td>NaN</td>\n",
              "    </tr>\n",
              "    <tr>\n",
              "      <th>2</th>\n",
              "      <td>2000-01-05</td>\n",
              "      <td>IOC</td>\n",
              "      <td>EQ</td>\n",
              "      <td>264.40</td>\n",
              "      <td>264.9</td>\n",
              "      <td>265.00</td>\n",
              "      <td>257.00</td>\n",
              "      <td>261.35</td>\n",
              "      <td>261.30</td>\n",
              "      <td>260.66</td>\n",
              "      <td>18900</td>\n",
              "      <td>4.926382e+11</td>\n",
              "      <td>NaN</td>\n",
              "      <td>NaN</td>\n",
              "      <td>NaN</td>\n",
              "    </tr>\n",
              "    <tr>\n",
              "      <th>3</th>\n",
              "      <td>2000-01-06</td>\n",
              "      <td>IOC</td>\n",
              "      <td>EQ</td>\n",
              "      <td>261.30</td>\n",
              "      <td>258.0</td>\n",
              "      <td>263.00</td>\n",
              "      <td>256.05</td>\n",
              "      <td>263.00</td>\n",
              "      <td>260.10</td>\n",
              "      <td>259.81</td>\n",
              "      <td>18150</td>\n",
              "      <td>4.715515e+11</td>\n",
              "      <td>NaN</td>\n",
              "      <td>NaN</td>\n",
              "      <td>NaN</td>\n",
              "    </tr>\n",
              "    <tr>\n",
              "      <th>4</th>\n",
              "      <td>2000-01-07</td>\n",
              "      <td>IOC</td>\n",
              "      <td>EQ</td>\n",
              "      <td>260.10</td>\n",
              "      <td>259.9</td>\n",
              "      <td>267.00</td>\n",
              "      <td>253.25</td>\n",
              "      <td>267.00</td>\n",
              "      <td>264.45</td>\n",
              "      <td>260.11</td>\n",
              "      <td>17650</td>\n",
              "      <td>4.590902e+11</td>\n",
              "      <td>NaN</td>\n",
              "      <td>NaN</td>\n",
              "      <td>NaN</td>\n",
              "    </tr>\n",
              "  </tbody>\n",
              "</table>\n",
              "</div>"
            ],
            "text/plain": [
              "         Date Symbol Series  ...  Trades  Deliverable Volume  %Deliverble\n",
              "0  2000-01-03    IOC     EQ  ...     NaN                 NaN          NaN\n",
              "1  2000-01-04    IOC     EQ  ...     NaN                 NaN          NaN\n",
              "2  2000-01-05    IOC     EQ  ...     NaN                 NaN          NaN\n",
              "3  2000-01-06    IOC     EQ  ...     NaN                 NaN          NaN\n",
              "4  2000-01-07    IOC     EQ  ...     NaN                 NaN          NaN\n",
              "\n",
              "[5 rows x 15 columns]"
            ]
          },
          "metadata": {},
          "execution_count": 3
        }
      ]
    },
    {
      "cell_type": "markdown",
      "metadata": {
        "id": "xYSQiI--55n3"
      },
      "source": [
        "###Rolling Window Statistics"
      ],
      "id": "xYSQiI--55n3"
    },
    {
      "cell_type": "markdown",
      "metadata": {
        "id": "uwYdCPeT6Y9h"
      },
      "source": [
        "####Lag features\n",
        "1.   Use of prior timestamp or features of data which happened in past are useful because we can create our prediction as what happened in past can affect the future.\n",
        "\n",
        "      Like if we want to predict sales at 4pm we should know yesterday's sale at 4pm.\n",
        "      Maybe last week sales at 4pm on same day.\n",
        "\n",
        "2.   These previous data ( in this senario sales data )is what actually lag features are.\n",
        "\n",
        "3.   Inorder to extract meaningful information from data we create multiple lag features through we have set a fixed time period in past and group features by that time period like items sold in last 2hrs,3 weeks and last Month.\n",
        "\n",
        "**For using this we use pd.shift()**"
      ],
      "id": "uwYdCPeT6Y9h"
    },
    {
      "cell_type": "markdown",
      "metadata": {
        "id": "RFNIuWG76T_B"
      },
      "source": [
        "##### Shift operation"
      ],
      "id": "RFNIuWG76T_B"
    },
    {
      "cell_type": "code",
      "metadata": {
        "colab": {
          "base_uri": "https://localhost:8080/"
        },
        "id": "jkxIu2GImdYc",
        "outputId": "c2018662-9c60-4821-b165-724080c3f156"
      },
      "source": [
        "df.Close.shift(1)"
      ],
      "id": "jkxIu2GImdYc",
      "execution_count": 4,
      "outputs": [
        {
          "output_type": "execute_result",
          "data": {
            "text/plain": [
              "0          NaN\n",
              "1       270.85\n",
              "2       264.40\n",
              "3       261.30\n",
              "4       260.10\n",
              "         ...  \n",
              "5301     88.05\n",
              "5302     88.20\n",
              "5303     88.85\n",
              "5304     89.40\n",
              "5305     88.90\n",
              "Name: Close, Length: 5306, dtype: float64"
            ]
          },
          "metadata": {},
          "execution_count": 4
        }
      ]
    },
    {
      "cell_type": "code",
      "metadata": {
        "id": "Gjmm6ifv6T_C"
      },
      "source": [
        ""
      ],
      "id": "Gjmm6ifv6T_C",
      "execution_count": 4,
      "outputs": []
    },
    {
      "cell_type": "code",
      "metadata": {
        "colab": {
          "base_uri": "https://localhost:8080/"
        },
        "id": "Mvg34JkD6T_C",
        "outputId": "9882b80c-a639-4b26-e098-f8bc45cfc488"
      },
      "source": [
        "df.Volume.shift(-1)"
      ],
      "id": "Mvg34JkD6T_C",
      "execution_count": 5,
      "outputs": [
        {
          "output_type": "execute_result",
          "data": {
            "text/plain": [
              "0          24400.0\n",
              "1          18900.0\n",
              "2          18150.0\n",
              "3          17650.0\n",
              "4          23550.0\n",
              "           ...    \n",
              "5301     8752415.0\n",
              "5302     6336704.0\n",
              "5303     8957163.0\n",
              "5304    29815698.0\n",
              "5305           NaN\n",
              "Name: Volume, Length: 5306, dtype: float64"
            ]
          },
          "metadata": {},
          "execution_count": 5
        }
      ]
    },
    {
      "cell_type": "markdown",
      "metadata": {
        "id": "VDASP-eB0P2x"
      },
      "source": [
        "\n",
        "\n",
        "####Rolling Window Statistics\n",
        "1.   The objective of using rolling window statistics is to compute statistics from a given data sample by defining a range that includes the data samples features itself as well as features of samples before and after sample used.\n",
        "2.  Like what are the sales of the shop in the last 3 days, last 7 days , last month based on which shopkeeper can order more products for stock.\n",
        "3.  One popular rolling window statistic measure is weighted average of previous features.\n",
        "\n",
        "**For using this we use pd.rolling**"
      ],
      "id": "VDASP-eB0P2x"
    },
    {
      "cell_type": "markdown",
      "metadata": {
        "id": "hV1FD0B1h-tA"
      },
      "source": [
        "##### Window attribute\n",
        "This defines no of timesteps of past of a feature used for calculating the statistics"
      ],
      "id": "hV1FD0B1h-tA"
    },
    {
      "cell_type": "code",
      "metadata": {
        "colab": {
          "base_uri": "https://localhost:8080/"
        },
        "id": "65b44b65",
        "outputId": "5561a671-0230-4901-fcfe-b54c234459fa"
      },
      "source": [
        "df.Close.rolling(window=3).sum()"
      ],
      "id": "65b44b65",
      "execution_count": 6,
      "outputs": [
        {
          "output_type": "execute_result",
          "data": {
            "text/plain": [
              "0          NaN\n",
              "1          NaN\n",
              "2       796.55\n",
              "3       785.80\n",
              "4       785.85\n",
              "         ...  \n",
              "5301    264.10\n",
              "5302    265.10\n",
              "5303    266.45\n",
              "5304    267.15\n",
              "5305    269.15\n",
              "Name: Close, Length: 5306, dtype: float64"
            ]
          },
          "metadata": {},
          "execution_count": 6
        }
      ]
    },
    {
      "cell_type": "markdown",
      "metadata": {
        "id": "3dGJX9OAiDOa"
      },
      "source": [
        "##### Min Periods attribute\n",
        "The minimum no of non null value used for calculating statistic"
      ],
      "id": "3dGJX9OAiDOa"
    },
    {
      "cell_type": "code",
      "metadata": {
        "colab": {
          "base_uri": "https://localhost:8080/"
        },
        "id": "ca8b84ab",
        "outputId": "fd7776e8-5e57-4c9e-83d4-4cbbcc126f67"
      },
      "source": [
        "df.Close.rolling(window=3,min_periods=1).sum()"
      ],
      "id": "ca8b84ab",
      "execution_count": 7,
      "outputs": [
        {
          "output_type": "execute_result",
          "data": {
            "text/plain": [
              "0       270.85\n",
              "1       535.25\n",
              "2       796.55\n",
              "3       785.80\n",
              "4       785.85\n",
              "         ...  \n",
              "5301    264.10\n",
              "5302    265.10\n",
              "5303    266.45\n",
              "5304    267.15\n",
              "5305    269.15\n",
              "Name: Close, Length: 5306, dtype: float64"
            ]
          },
          "metadata": {},
          "execution_count": 7
        }
      ]
    },
    {
      "cell_type": "code",
      "metadata": {
        "colab": {
          "base_uri": "https://localhost:8080/"
        },
        "id": "2a322e68",
        "outputId": "c526c6d5-29ca-40ac-d60a-9dd887816e8a"
      },
      "source": [
        "df.Close.rolling(window=3,min_periods=2).sum()"
      ],
      "id": "2a322e68",
      "execution_count": 8,
      "outputs": [
        {
          "output_type": "execute_result",
          "data": {
            "text/plain": [
              "0          NaN\n",
              "1       535.25\n",
              "2       796.55\n",
              "3       785.80\n",
              "4       785.85\n",
              "         ...  \n",
              "5301    264.10\n",
              "5302    265.10\n",
              "5303    266.45\n",
              "5304    267.15\n",
              "5305    269.15\n",
              "Name: Close, Length: 5306, dtype: float64"
            ]
          },
          "metadata": {},
          "execution_count": 8
        }
      ]
    },
    {
      "cell_type": "markdown",
      "metadata": {
        "id": "MmhxHUQwiOle"
      },
      "source": [
        "##### Examples of Types of statistics calculated using window statistics\n"
      ],
      "id": "MmhxHUQwiOle"
    },
    {
      "cell_type": "code",
      "metadata": {
        "colab": {
          "base_uri": "https://localhost:8080/"
        },
        "id": "24bbcd44",
        "outputId": "dfdd6b91-0d4d-4f2b-ccd3-5115c65eee54"
      },
      "source": [
        "df.Close.rolling(window=3).mean()"
      ],
      "id": "24bbcd44",
      "execution_count": 9,
      "outputs": [
        {
          "output_type": "execute_result",
          "data": {
            "text/plain": [
              "0              NaN\n",
              "1              NaN\n",
              "2       265.516667\n",
              "3       261.933333\n",
              "4       261.950000\n",
              "           ...    \n",
              "5301     88.033333\n",
              "5302     88.366667\n",
              "5303     88.816667\n",
              "5304     89.050000\n",
              "5305     89.716667\n",
              "Name: Close, Length: 5306, dtype: float64"
            ]
          },
          "metadata": {},
          "execution_count": 9
        }
      ]
    },
    {
      "cell_type": "code",
      "metadata": {
        "colab": {
          "base_uri": "https://localhost:8080/"
        },
        "id": "2bdc9fd8",
        "outputId": "a61eb05f-b3c4-4393-e0d8-ef7129ee278e"
      },
      "source": [
        "df.Close.rolling(window=3).median()"
      ],
      "id": "2bdc9fd8",
      "execution_count": 10,
      "outputs": [
        {
          "output_type": "execute_result",
          "data": {
            "text/plain": [
              "0          NaN\n",
              "1          NaN\n",
              "2       264.40\n",
              "3       261.30\n",
              "4       261.30\n",
              "         ...  \n",
              "5301     88.05\n",
              "5302     88.20\n",
              "5303     88.85\n",
              "5304     88.90\n",
              "5305     89.40\n",
              "Name: Close, Length: 5306, dtype: float64"
            ]
          },
          "metadata": {},
          "execution_count": 10
        }
      ]
    },
    {
      "cell_type": "code",
      "metadata": {
        "colab": {
          "base_uri": "https://localhost:8080/"
        },
        "id": "10f8ca54",
        "outputId": "fce49c25-d5c1-4c34-873a-ea1f05ddcbd6"
      },
      "source": [
        "df.Close.rolling(window=3).std()"
      ],
      "id": "10f8ca54",
      "execution_count": 11,
      "outputs": [
        {
          "output_type": "execute_result",
          "data": {
            "text/plain": [
              "0            NaN\n",
              "1            NaN\n",
              "2       4.871943\n",
              "3       2.218859\n",
              "4       2.246664\n",
              "          ...   \n",
              "5301    0.175594\n",
              "5302    0.425245\n",
              "5303    0.600694\n",
              "5304    0.304138\n",
              "5305    1.012834\n",
              "Name: Close, Length: 5306, dtype: float64"
            ]
          },
          "metadata": {},
          "execution_count": 11
        }
      ]
    },
    {
      "cell_type": "code",
      "metadata": {
        "colab": {
          "base_uri": "https://localhost:8080/"
        },
        "id": "hzp8hosaigi2",
        "outputId": "783c8464-f331-45bd-fff0-74290da18582"
      },
      "source": [
        "df.Volume.rolling(window=3).sum()"
      ],
      "id": "hzp8hosaigi2",
      "execution_count": 12,
      "outputs": [
        {
          "output_type": "execute_result",
          "data": {
            "text/plain": [
              "0              NaN\n",
              "1              NaN\n",
              "2          67000.0\n",
              "3          61450.0\n",
              "4          54700.0\n",
              "           ...    \n",
              "5301    24560549.0\n",
              "5302    23822774.0\n",
              "5303    22155800.0\n",
              "5304    24046282.0\n",
              "5305    45109565.0\n",
              "Name: Volume, Length: 5306, dtype: float64"
            ]
          },
          "metadata": {},
          "execution_count": 12
        }
      ]
    },
    {
      "cell_type": "code",
      "metadata": {
        "colab": {
          "base_uri": "https://localhost:8080/"
        },
        "id": "7nysT-tstLQy",
        "outputId": "17c9015b-4b3a-421a-889d-3d01d9972b3c"
      },
      "source": [
        "df.Volume.rolling(window=2).sum().shift(2)"
      ],
      "id": "7nysT-tstLQy",
      "execution_count": 13,
      "outputs": [
        {
          "output_type": "execute_result",
          "data": {
            "text/plain": [
              "0              NaN\n",
              "1              NaN\n",
              "2              NaN\n",
              "3          48100.0\n",
              "4          43300.0\n",
              "           ...    \n",
              "5301    20356234.0\n",
              "5302    17493868.0\n",
              "5303    15070359.0\n",
              "5304    15819096.0\n",
              "5305    15089119.0\n",
              "Name: Volume, Length: 5306, dtype: float64"
            ]
          },
          "metadata": {},
          "execution_count": 13
        }
      ]
    },
    {
      "cell_type": "markdown",
      "metadata": {
        "id": "vKYRUQR67EeI"
      },
      "source": [
        "##### Everything Together for the dataset to extract features"
      ],
      "id": "vKYRUQR67EeI"
    },
    {
      "cell_type": "code",
      "metadata": {
        "colab": {
          "base_uri": "https://localhost:8080/",
          "height": 706
        },
        "id": "86f7cd0e",
        "outputId": "08bf72b6-6aaf-4f6d-e1a8-c0fdbe14758a"
      },
      "source": [
        "lag_features = [\"High\", \"Low\"]\n",
        "window1 = 3\n",
        "df_rolled_3d = df[lag_features].rolling(window=window1, min_periods=0).mean().shift(1).reset_index().astype(np.float32)\n",
        "df_mean_3d = df[lag_features].rolling(window=window1, min_periods=0).mean().shift(1).reset_index().astype(np.float32)\n",
        "df_std_3d = df[lag_features].rolling(window=window1, min_periods=0).std().shift(1).reset_index().astype(np.float32)\n",
        "\n",
        "for feature in lag_features:\n",
        "    df[f\"{feature}_lag{window1}\"] = df_rolled_3d[feature].astype('float32')\n",
        "    df[f\"{feature}_mean_lag{window1}\"] = df_mean_3d[feature].astype('float32')\n",
        "    df[f\"{feature}_std_lag{window1}\"] = df_std_3d[feature].astype('float32')\n",
        "\n",
        "df.head().T"
      ],
      "id": "86f7cd0e",
      "execution_count": 14,
      "outputs": [
        {
          "output_type": "execute_result",
          "data": {
            "text/html": [
              "<div>\n",
              "<style scoped>\n",
              "    .dataframe tbody tr th:only-of-type {\n",
              "        vertical-align: middle;\n",
              "    }\n",
              "\n",
              "    .dataframe tbody tr th {\n",
              "        vertical-align: top;\n",
              "    }\n",
              "\n",
              "    .dataframe thead th {\n",
              "        text-align: right;\n",
              "    }\n",
              "</style>\n",
              "<table border=\"1\" class=\"dataframe\">\n",
              "  <thead>\n",
              "    <tr style=\"text-align: right;\">\n",
              "      <th></th>\n",
              "      <th>0</th>\n",
              "      <th>1</th>\n",
              "      <th>2</th>\n",
              "      <th>3</th>\n",
              "      <th>4</th>\n",
              "    </tr>\n",
              "  </thead>\n",
              "  <tbody>\n",
              "    <tr>\n",
              "      <th>Date</th>\n",
              "      <td>2000-01-03</td>\n",
              "      <td>2000-01-04</td>\n",
              "      <td>2000-01-05</td>\n",
              "      <td>2000-01-06</td>\n",
              "      <td>2000-01-07</td>\n",
              "    </tr>\n",
              "    <tr>\n",
              "      <th>Symbol</th>\n",
              "      <td>IOC</td>\n",
              "      <td>IOC</td>\n",
              "      <td>IOC</td>\n",
              "      <td>IOC</td>\n",
              "      <td>IOC</td>\n",
              "    </tr>\n",
              "    <tr>\n",
              "      <th>Series</th>\n",
              "      <td>EQ</td>\n",
              "      <td>EQ</td>\n",
              "      <td>EQ</td>\n",
              "      <td>EQ</td>\n",
              "      <td>EQ</td>\n",
              "    </tr>\n",
              "    <tr>\n",
              "      <th>Prev Close</th>\n",
              "      <td>254</td>\n",
              "      <td>270.85</td>\n",
              "      <td>264.4</td>\n",
              "      <td>261.3</td>\n",
              "      <td>260.1</td>\n",
              "    </tr>\n",
              "    <tr>\n",
              "      <th>Open</th>\n",
              "      <td>260</td>\n",
              "      <td>260</td>\n",
              "      <td>264.9</td>\n",
              "      <td>258</td>\n",
              "      <td>259.9</td>\n",
              "    </tr>\n",
              "    <tr>\n",
              "      <th>High</th>\n",
              "      <td>273.25</td>\n",
              "      <td>268</td>\n",
              "      <td>265</td>\n",
              "      <td>263</td>\n",
              "      <td>267</td>\n",
              "    </tr>\n",
              "    <tr>\n",
              "      <th>Low</th>\n",
              "      <td>250</td>\n",
              "      <td>254.1</td>\n",
              "      <td>257</td>\n",
              "      <td>256.05</td>\n",
              "      <td>253.25</td>\n",
              "    </tr>\n",
              "    <tr>\n",
              "      <th>Last</th>\n",
              "      <td>267.35</td>\n",
              "      <td>267</td>\n",
              "      <td>261.35</td>\n",
              "      <td>263</td>\n",
              "      <td>267</td>\n",
              "    </tr>\n",
              "    <tr>\n",
              "      <th>Close</th>\n",
              "      <td>270.85</td>\n",
              "      <td>264.4</td>\n",
              "      <td>261.3</td>\n",
              "      <td>260.1</td>\n",
              "      <td>264.45</td>\n",
              "    </tr>\n",
              "    <tr>\n",
              "      <th>VWAP</th>\n",
              "      <td>258.55</td>\n",
              "      <td>259.8</td>\n",
              "      <td>260.66</td>\n",
              "      <td>259.81</td>\n",
              "      <td>260.11</td>\n",
              "    </tr>\n",
              "    <tr>\n",
              "      <th>Volume</th>\n",
              "      <td>23700</td>\n",
              "      <td>24400</td>\n",
              "      <td>18900</td>\n",
              "      <td>18150</td>\n",
              "      <td>17650</td>\n",
              "    </tr>\n",
              "    <tr>\n",
              "      <th>Turnover</th>\n",
              "      <td>6.12765e+11</td>\n",
              "      <td>6.33911e+11</td>\n",
              "      <td>4.92638e+11</td>\n",
              "      <td>4.71552e+11</td>\n",
              "      <td>4.5909e+11</td>\n",
              "    </tr>\n",
              "    <tr>\n",
              "      <th>Trades</th>\n",
              "      <td>NaN</td>\n",
              "      <td>NaN</td>\n",
              "      <td>NaN</td>\n",
              "      <td>NaN</td>\n",
              "      <td>NaN</td>\n",
              "    </tr>\n",
              "    <tr>\n",
              "      <th>Deliverable Volume</th>\n",
              "      <td>NaN</td>\n",
              "      <td>NaN</td>\n",
              "      <td>NaN</td>\n",
              "      <td>NaN</td>\n",
              "      <td>NaN</td>\n",
              "    </tr>\n",
              "    <tr>\n",
              "      <th>%Deliverble</th>\n",
              "      <td>NaN</td>\n",
              "      <td>NaN</td>\n",
              "      <td>NaN</td>\n",
              "      <td>NaN</td>\n",
              "      <td>NaN</td>\n",
              "    </tr>\n",
              "    <tr>\n",
              "      <th>High_lag3</th>\n",
              "      <td>NaN</td>\n",
              "      <td>273.25</td>\n",
              "      <td>270.625</td>\n",
              "      <td>268.75</td>\n",
              "      <td>265.333</td>\n",
              "    </tr>\n",
              "    <tr>\n",
              "      <th>High_mean_lag3</th>\n",
              "      <td>NaN</td>\n",
              "      <td>273.25</td>\n",
              "      <td>270.625</td>\n",
              "      <td>268.75</td>\n",
              "      <td>265.333</td>\n",
              "    </tr>\n",
              "    <tr>\n",
              "      <th>High_std_lag3</th>\n",
              "      <td>NaN</td>\n",
              "      <td>NaN</td>\n",
              "      <td>3.71231</td>\n",
              "      <td>4.17582</td>\n",
              "      <td>2.51661</td>\n",
              "    </tr>\n",
              "    <tr>\n",
              "      <th>Low_lag3</th>\n",
              "      <td>NaN</td>\n",
              "      <td>250</td>\n",
              "      <td>252.05</td>\n",
              "      <td>253.7</td>\n",
              "      <td>255.717</td>\n",
              "    </tr>\n",
              "    <tr>\n",
              "      <th>Low_mean_lag3</th>\n",
              "      <td>NaN</td>\n",
              "      <td>250</td>\n",
              "      <td>252.05</td>\n",
              "      <td>253.7</td>\n",
              "      <td>255.717</td>\n",
              "    </tr>\n",
              "    <tr>\n",
              "      <th>Low_std_lag3</th>\n",
              "      <td>NaN</td>\n",
              "      <td>NaN</td>\n",
              "      <td>2.89914</td>\n",
              "      <td>3.5171</td>\n",
              "      <td>1.47846</td>\n",
              "    </tr>\n",
              "  </tbody>\n",
              "</table>\n",
              "</div>"
            ],
            "text/plain": [
              "                              0            1  ...            3           4\n",
              "Date                 2000-01-03   2000-01-04  ...   2000-01-06  2000-01-07\n",
              "Symbol                      IOC          IOC  ...          IOC         IOC\n",
              "Series                       EQ           EQ  ...           EQ          EQ\n",
              "Prev Close                  254       270.85  ...        261.3       260.1\n",
              "Open                        260          260  ...          258       259.9\n",
              "High                     273.25          268  ...          263         267\n",
              "Low                         250        254.1  ...       256.05      253.25\n",
              "Last                     267.35          267  ...          263         267\n",
              "Close                    270.85        264.4  ...        260.1      264.45\n",
              "VWAP                     258.55        259.8  ...       259.81      260.11\n",
              "Volume                    23700        24400  ...        18150       17650\n",
              "Turnover            6.12765e+11  6.33911e+11  ...  4.71552e+11  4.5909e+11\n",
              "Trades                      NaN          NaN  ...          NaN         NaN\n",
              "Deliverable Volume          NaN          NaN  ...          NaN         NaN\n",
              "%Deliverble                 NaN          NaN  ...          NaN         NaN\n",
              "High_lag3                   NaN       273.25  ...       268.75     265.333\n",
              "High_mean_lag3              NaN       273.25  ...       268.75     265.333\n",
              "High_std_lag3               NaN          NaN  ...      4.17582     2.51661\n",
              "Low_lag3                    NaN          250  ...        253.7     255.717\n",
              "Low_mean_lag3               NaN          250  ...        253.7     255.717\n",
              "Low_std_lag3                NaN          NaN  ...       3.5171     1.47846\n",
              "\n",
              "[21 rows x 5 columns]"
            ]
          },
          "metadata": {},
          "execution_count": 14
        }
      ]
    },
    {
      "cell_type": "markdown",
      "metadata": {
        "id": "xzJ59Ig-jjb2"
      },
      "source": [
        "### Tackling NAN data\n",
        "In real world data it often happens we dont have complete information due to several reasons.\n",
        "These values are represented using NAN."
      ],
      "id": "xzJ59Ig-jjb2"
    },
    {
      "cell_type": "code",
      "metadata": {
        "id": "b052de9e"
      },
      "source": [
        "df.fillna(df.mean(), inplace=True)"
      ],
      "id": "b052de9e",
      "execution_count": 15,
      "outputs": []
    },
    {
      "cell_type": "markdown",
      "metadata": {
        "id": "NAqx3b9Mjnye"
      },
      "source": [
        "### Extracting Date-Time features"
      ],
      "id": "NAqx3b9Mjnye"
    },
    {
      "cell_type": "markdown",
      "metadata": {
        "id": "9MWQTnoZzHOL"
      },
      "source": [
        "#### Date Time features\n",
        "\n",
        "1.   Created from time steps of each observation/data\n",
        "2.   Can be hour, month,day,year ,minute ,etc\n",
        "3.   Other observation could be like\n",
        "4.   Weekend or not \n",
        "5.   Summer/ winter\n"
      ],
      "id": "9MWQTnoZzHOL"
    },
    {
      "cell_type": "code",
      "metadata": {
        "colab": {
          "base_uri": "https://localhost:8080/",
          "height": 329
        },
        "id": "6ecca10a",
        "outputId": "93a5d0e7-1259-4ee8-9da5-62cd5b3a47c0"
      },
      "source": [
        "# Convert string to datetime64\n",
        "df['Date'] = df['Date'].apply(pd.to_datetime)\n",
        "df.Date = pd.to_datetime(df.Date, format=\"%Y-%m-%d\")\n",
        "df[\"day\"] = df.Date.dt.day\n",
        "df[\"Month\"] = df.Date.dt.month\n",
        "df[\"day_of_week\"] = df.Date.dt.dayofweek\n",
        "df[\"year\"] = df.Date.dt.year\n",
        "df.head()"
      ],
      "id": "6ecca10a",
      "execution_count": 16,
      "outputs": [
        {
          "output_type": "execute_result",
          "data": {
            "text/html": [
              "<div>\n",
              "<style scoped>\n",
              "    .dataframe tbody tr th:only-of-type {\n",
              "        vertical-align: middle;\n",
              "    }\n",
              "\n",
              "    .dataframe tbody tr th {\n",
              "        vertical-align: top;\n",
              "    }\n",
              "\n",
              "    .dataframe thead th {\n",
              "        text-align: right;\n",
              "    }\n",
              "</style>\n",
              "<table border=\"1\" class=\"dataframe\">\n",
              "  <thead>\n",
              "    <tr style=\"text-align: right;\">\n",
              "      <th></th>\n",
              "      <th>Date</th>\n",
              "      <th>Symbol</th>\n",
              "      <th>Series</th>\n",
              "      <th>Prev Close</th>\n",
              "      <th>Open</th>\n",
              "      <th>High</th>\n",
              "      <th>Low</th>\n",
              "      <th>Last</th>\n",
              "      <th>Close</th>\n",
              "      <th>VWAP</th>\n",
              "      <th>Volume</th>\n",
              "      <th>Turnover</th>\n",
              "      <th>Trades</th>\n",
              "      <th>Deliverable Volume</th>\n",
              "      <th>%Deliverble</th>\n",
              "      <th>High_lag3</th>\n",
              "      <th>High_mean_lag3</th>\n",
              "      <th>High_std_lag3</th>\n",
              "      <th>Low_lag3</th>\n",
              "      <th>Low_mean_lag3</th>\n",
              "      <th>Low_std_lag3</th>\n",
              "      <th>day</th>\n",
              "      <th>Month</th>\n",
              "      <th>day_of_week</th>\n",
              "      <th>year</th>\n",
              "    </tr>\n",
              "  </thead>\n",
              "  <tbody>\n",
              "    <tr>\n",
              "      <th>0</th>\n",
              "      <td>2000-01-03</td>\n",
              "      <td>IOC</td>\n",
              "      <td>EQ</td>\n",
              "      <td>254.00</td>\n",
              "      <td>260.0</td>\n",
              "      <td>273.25</td>\n",
              "      <td>250.00</td>\n",
              "      <td>267.35</td>\n",
              "      <td>270.85</td>\n",
              "      <td>258.55</td>\n",
              "      <td>23700</td>\n",
              "      <td>6.127648e+11</td>\n",
              "      <td>40210.116042</td>\n",
              "      <td>1.454141e+06</td>\n",
              "      <td>0.489827</td>\n",
              "      <td>324.821320</td>\n",
              "      <td>324.821320</td>\n",
              "      <td>5.096461</td>\n",
              "      <td>313.431000</td>\n",
              "      <td>313.431000</td>\n",
              "      <td>4.992313</td>\n",
              "      <td>3</td>\n",
              "      <td>1</td>\n",
              "      <td>0</td>\n",
              "      <td>2000</td>\n",
              "    </tr>\n",
              "    <tr>\n",
              "      <th>1</th>\n",
              "      <td>2000-01-04</td>\n",
              "      <td>IOC</td>\n",
              "      <td>EQ</td>\n",
              "      <td>270.85</td>\n",
              "      <td>260.0</td>\n",
              "      <td>268.00</td>\n",
              "      <td>254.10</td>\n",
              "      <td>267.00</td>\n",
              "      <td>264.40</td>\n",
              "      <td>259.80</td>\n",
              "      <td>24400</td>\n",
              "      <td>6.339112e+11</td>\n",
              "      <td>40210.116042</td>\n",
              "      <td>1.454141e+06</td>\n",
              "      <td>0.489827</td>\n",
              "      <td>273.250000</td>\n",
              "      <td>273.250000</td>\n",
              "      <td>5.096461</td>\n",
              "      <td>250.000000</td>\n",
              "      <td>250.000000</td>\n",
              "      <td>4.992313</td>\n",
              "      <td>4</td>\n",
              "      <td>1</td>\n",
              "      <td>1</td>\n",
              "      <td>2000</td>\n",
              "    </tr>\n",
              "    <tr>\n",
              "      <th>2</th>\n",
              "      <td>2000-01-05</td>\n",
              "      <td>IOC</td>\n",
              "      <td>EQ</td>\n",
              "      <td>264.40</td>\n",
              "      <td>264.9</td>\n",
              "      <td>265.00</td>\n",
              "      <td>257.00</td>\n",
              "      <td>261.35</td>\n",
              "      <td>261.30</td>\n",
              "      <td>260.66</td>\n",
              "      <td>18900</td>\n",
              "      <td>4.926382e+11</td>\n",
              "      <td>40210.116042</td>\n",
              "      <td>1.454141e+06</td>\n",
              "      <td>0.489827</td>\n",
              "      <td>270.625000</td>\n",
              "      <td>270.625000</td>\n",
              "      <td>3.712311</td>\n",
              "      <td>252.050003</td>\n",
              "      <td>252.050003</td>\n",
              "      <td>2.899138</td>\n",
              "      <td>5</td>\n",
              "      <td>1</td>\n",
              "      <td>2</td>\n",
              "      <td>2000</td>\n",
              "    </tr>\n",
              "    <tr>\n",
              "      <th>3</th>\n",
              "      <td>2000-01-06</td>\n",
              "      <td>IOC</td>\n",
              "      <td>EQ</td>\n",
              "      <td>261.30</td>\n",
              "      <td>258.0</td>\n",
              "      <td>263.00</td>\n",
              "      <td>256.05</td>\n",
              "      <td>263.00</td>\n",
              "      <td>260.10</td>\n",
              "      <td>259.81</td>\n",
              "      <td>18150</td>\n",
              "      <td>4.715515e+11</td>\n",
              "      <td>40210.116042</td>\n",
              "      <td>1.454141e+06</td>\n",
              "      <td>0.489827</td>\n",
              "      <td>268.750000</td>\n",
              "      <td>268.750000</td>\n",
              "      <td>4.175823</td>\n",
              "      <td>253.699997</td>\n",
              "      <td>253.699997</td>\n",
              "      <td>3.517101</td>\n",
              "      <td>6</td>\n",
              "      <td>1</td>\n",
              "      <td>3</td>\n",
              "      <td>2000</td>\n",
              "    </tr>\n",
              "    <tr>\n",
              "      <th>4</th>\n",
              "      <td>2000-01-07</td>\n",
              "      <td>IOC</td>\n",
              "      <td>EQ</td>\n",
              "      <td>260.10</td>\n",
              "      <td>259.9</td>\n",
              "      <td>267.00</td>\n",
              "      <td>253.25</td>\n",
              "      <td>267.00</td>\n",
              "      <td>264.45</td>\n",
              "      <td>260.11</td>\n",
              "      <td>17650</td>\n",
              "      <td>4.590902e+11</td>\n",
              "      <td>40210.116042</td>\n",
              "      <td>1.454141e+06</td>\n",
              "      <td>0.489827</td>\n",
              "      <td>265.333344</td>\n",
              "      <td>265.333344</td>\n",
              "      <td>2.516612</td>\n",
              "      <td>255.716660</td>\n",
              "      <td>255.716660</td>\n",
              "      <td>1.478456</td>\n",
              "      <td>7</td>\n",
              "      <td>1</td>\n",
              "      <td>4</td>\n",
              "      <td>2000</td>\n",
              "    </tr>\n",
              "  </tbody>\n",
              "</table>\n",
              "</div>"
            ],
            "text/plain": [
              "        Date Symbol Series  Prev Close  ...  day  Month  day_of_week  year\n",
              "0 2000-01-03    IOC     EQ      254.00  ...    3      1            0  2000\n",
              "1 2000-01-04    IOC     EQ      270.85  ...    4      1            1  2000\n",
              "2 2000-01-05    IOC     EQ      264.40  ...    5      1            2  2000\n",
              "3 2000-01-06    IOC     EQ      261.30  ...    6      1            3  2000\n",
              "4 2000-01-07    IOC     EQ      260.10  ...    7      1            4  2000\n",
              "\n",
              "[5 rows x 25 columns]"
            ]
          },
          "metadata": {},
          "execution_count": 16
        }
      ]
    },
    {
      "cell_type": "code",
      "metadata": {
        "colab": {
          "base_uri": "https://localhost:8080/",
          "height": 360
        },
        "id": "70d8d0b6",
        "outputId": "2e087c53-7902-4937-b9c8-591e351c14ce"
      },
      "source": [
        "df.set_index('Date',inplace=True)\n",
        "df.head()"
      ],
      "id": "70d8d0b6",
      "execution_count": 17,
      "outputs": [
        {
          "output_type": "execute_result",
          "data": {
            "text/html": [
              "<div>\n",
              "<style scoped>\n",
              "    .dataframe tbody tr th:only-of-type {\n",
              "        vertical-align: middle;\n",
              "    }\n",
              "\n",
              "    .dataframe tbody tr th {\n",
              "        vertical-align: top;\n",
              "    }\n",
              "\n",
              "    .dataframe thead th {\n",
              "        text-align: right;\n",
              "    }\n",
              "</style>\n",
              "<table border=\"1\" class=\"dataframe\">\n",
              "  <thead>\n",
              "    <tr style=\"text-align: right;\">\n",
              "      <th></th>\n",
              "      <th>Symbol</th>\n",
              "      <th>Series</th>\n",
              "      <th>Prev Close</th>\n",
              "      <th>Open</th>\n",
              "      <th>High</th>\n",
              "      <th>Low</th>\n",
              "      <th>Last</th>\n",
              "      <th>Close</th>\n",
              "      <th>VWAP</th>\n",
              "      <th>Volume</th>\n",
              "      <th>Turnover</th>\n",
              "      <th>Trades</th>\n",
              "      <th>Deliverable Volume</th>\n",
              "      <th>%Deliverble</th>\n",
              "      <th>High_lag3</th>\n",
              "      <th>High_mean_lag3</th>\n",
              "      <th>High_std_lag3</th>\n",
              "      <th>Low_lag3</th>\n",
              "      <th>Low_mean_lag3</th>\n",
              "      <th>Low_std_lag3</th>\n",
              "      <th>day</th>\n",
              "      <th>Month</th>\n",
              "      <th>day_of_week</th>\n",
              "      <th>year</th>\n",
              "    </tr>\n",
              "    <tr>\n",
              "      <th>Date</th>\n",
              "      <th></th>\n",
              "      <th></th>\n",
              "      <th></th>\n",
              "      <th></th>\n",
              "      <th></th>\n",
              "      <th></th>\n",
              "      <th></th>\n",
              "      <th></th>\n",
              "      <th></th>\n",
              "      <th></th>\n",
              "      <th></th>\n",
              "      <th></th>\n",
              "      <th></th>\n",
              "      <th></th>\n",
              "      <th></th>\n",
              "      <th></th>\n",
              "      <th></th>\n",
              "      <th></th>\n",
              "      <th></th>\n",
              "      <th></th>\n",
              "      <th></th>\n",
              "      <th></th>\n",
              "      <th></th>\n",
              "      <th></th>\n",
              "    </tr>\n",
              "  </thead>\n",
              "  <tbody>\n",
              "    <tr>\n",
              "      <th>2000-01-03</th>\n",
              "      <td>IOC</td>\n",
              "      <td>EQ</td>\n",
              "      <td>254.00</td>\n",
              "      <td>260.0</td>\n",
              "      <td>273.25</td>\n",
              "      <td>250.00</td>\n",
              "      <td>267.35</td>\n",
              "      <td>270.85</td>\n",
              "      <td>258.55</td>\n",
              "      <td>23700</td>\n",
              "      <td>6.127648e+11</td>\n",
              "      <td>40210.116042</td>\n",
              "      <td>1.454141e+06</td>\n",
              "      <td>0.489827</td>\n",
              "      <td>324.821320</td>\n",
              "      <td>324.821320</td>\n",
              "      <td>5.096461</td>\n",
              "      <td>313.431000</td>\n",
              "      <td>313.431000</td>\n",
              "      <td>4.992313</td>\n",
              "      <td>3</td>\n",
              "      <td>1</td>\n",
              "      <td>0</td>\n",
              "      <td>2000</td>\n",
              "    </tr>\n",
              "    <tr>\n",
              "      <th>2000-01-04</th>\n",
              "      <td>IOC</td>\n",
              "      <td>EQ</td>\n",
              "      <td>270.85</td>\n",
              "      <td>260.0</td>\n",
              "      <td>268.00</td>\n",
              "      <td>254.10</td>\n",
              "      <td>267.00</td>\n",
              "      <td>264.40</td>\n",
              "      <td>259.80</td>\n",
              "      <td>24400</td>\n",
              "      <td>6.339112e+11</td>\n",
              "      <td>40210.116042</td>\n",
              "      <td>1.454141e+06</td>\n",
              "      <td>0.489827</td>\n",
              "      <td>273.250000</td>\n",
              "      <td>273.250000</td>\n",
              "      <td>5.096461</td>\n",
              "      <td>250.000000</td>\n",
              "      <td>250.000000</td>\n",
              "      <td>4.992313</td>\n",
              "      <td>4</td>\n",
              "      <td>1</td>\n",
              "      <td>1</td>\n",
              "      <td>2000</td>\n",
              "    </tr>\n",
              "    <tr>\n",
              "      <th>2000-01-05</th>\n",
              "      <td>IOC</td>\n",
              "      <td>EQ</td>\n",
              "      <td>264.40</td>\n",
              "      <td>264.9</td>\n",
              "      <td>265.00</td>\n",
              "      <td>257.00</td>\n",
              "      <td>261.35</td>\n",
              "      <td>261.30</td>\n",
              "      <td>260.66</td>\n",
              "      <td>18900</td>\n",
              "      <td>4.926382e+11</td>\n",
              "      <td>40210.116042</td>\n",
              "      <td>1.454141e+06</td>\n",
              "      <td>0.489827</td>\n",
              "      <td>270.625000</td>\n",
              "      <td>270.625000</td>\n",
              "      <td>3.712311</td>\n",
              "      <td>252.050003</td>\n",
              "      <td>252.050003</td>\n",
              "      <td>2.899138</td>\n",
              "      <td>5</td>\n",
              "      <td>1</td>\n",
              "      <td>2</td>\n",
              "      <td>2000</td>\n",
              "    </tr>\n",
              "    <tr>\n",
              "      <th>2000-01-06</th>\n",
              "      <td>IOC</td>\n",
              "      <td>EQ</td>\n",
              "      <td>261.30</td>\n",
              "      <td>258.0</td>\n",
              "      <td>263.00</td>\n",
              "      <td>256.05</td>\n",
              "      <td>263.00</td>\n",
              "      <td>260.10</td>\n",
              "      <td>259.81</td>\n",
              "      <td>18150</td>\n",
              "      <td>4.715515e+11</td>\n",
              "      <td>40210.116042</td>\n",
              "      <td>1.454141e+06</td>\n",
              "      <td>0.489827</td>\n",
              "      <td>268.750000</td>\n",
              "      <td>268.750000</td>\n",
              "      <td>4.175823</td>\n",
              "      <td>253.699997</td>\n",
              "      <td>253.699997</td>\n",
              "      <td>3.517101</td>\n",
              "      <td>6</td>\n",
              "      <td>1</td>\n",
              "      <td>3</td>\n",
              "      <td>2000</td>\n",
              "    </tr>\n",
              "    <tr>\n",
              "      <th>2000-01-07</th>\n",
              "      <td>IOC</td>\n",
              "      <td>EQ</td>\n",
              "      <td>260.10</td>\n",
              "      <td>259.9</td>\n",
              "      <td>267.00</td>\n",
              "      <td>253.25</td>\n",
              "      <td>267.00</td>\n",
              "      <td>264.45</td>\n",
              "      <td>260.11</td>\n",
              "      <td>17650</td>\n",
              "      <td>4.590902e+11</td>\n",
              "      <td>40210.116042</td>\n",
              "      <td>1.454141e+06</td>\n",
              "      <td>0.489827</td>\n",
              "      <td>265.333344</td>\n",
              "      <td>265.333344</td>\n",
              "      <td>2.516612</td>\n",
              "      <td>255.716660</td>\n",
              "      <td>255.716660</td>\n",
              "      <td>1.478456</td>\n",
              "      <td>7</td>\n",
              "      <td>1</td>\n",
              "      <td>4</td>\n",
              "      <td>2000</td>\n",
              "    </tr>\n",
              "  </tbody>\n",
              "</table>\n",
              "</div>"
            ],
            "text/plain": [
              "           Symbol Series  Prev Close   Open  ...  day  Month  day_of_week  year\n",
              "Date                                         ...                               \n",
              "2000-01-03    IOC     EQ      254.00  260.0  ...    3      1            0  2000\n",
              "2000-01-04    IOC     EQ      270.85  260.0  ...    4      1            1  2000\n",
              "2000-01-05    IOC     EQ      264.40  264.9  ...    5      1            2  2000\n",
              "2000-01-06    IOC     EQ      261.30  258.0  ...    6      1            3  2000\n",
              "2000-01-07    IOC     EQ      260.10  259.9  ...    7      1            4  2000\n",
              "\n",
              "[5 rows x 24 columns]"
            ]
          },
          "metadata": {},
          "execution_count": 17
        }
      ]
    },
    {
      "cell_type": "code",
      "metadata": {
        "id": "b7297578"
      },
      "source": [
        "df = df.drop(columns=['Symbol','Series'])"
      ],
      "id": "b7297578",
      "execution_count": 18,
      "outputs": []
    },
    {
      "cell_type": "code",
      "metadata": {
        "colab": {
          "base_uri": "https://localhost:8080/",
          "height": 360
        },
        "id": "3jMTwgM7onZH",
        "outputId": "49de205a-65c2-43e6-86a6-6c42bca885d5"
      },
      "source": [
        "df.head()"
      ],
      "id": "3jMTwgM7onZH",
      "execution_count": 19,
      "outputs": [
        {
          "output_type": "execute_result",
          "data": {
            "text/html": [
              "<div>\n",
              "<style scoped>\n",
              "    .dataframe tbody tr th:only-of-type {\n",
              "        vertical-align: middle;\n",
              "    }\n",
              "\n",
              "    .dataframe tbody tr th {\n",
              "        vertical-align: top;\n",
              "    }\n",
              "\n",
              "    .dataframe thead th {\n",
              "        text-align: right;\n",
              "    }\n",
              "</style>\n",
              "<table border=\"1\" class=\"dataframe\">\n",
              "  <thead>\n",
              "    <tr style=\"text-align: right;\">\n",
              "      <th></th>\n",
              "      <th>Prev Close</th>\n",
              "      <th>Open</th>\n",
              "      <th>High</th>\n",
              "      <th>Low</th>\n",
              "      <th>Last</th>\n",
              "      <th>Close</th>\n",
              "      <th>VWAP</th>\n",
              "      <th>Volume</th>\n",
              "      <th>Turnover</th>\n",
              "      <th>Trades</th>\n",
              "      <th>Deliverable Volume</th>\n",
              "      <th>%Deliverble</th>\n",
              "      <th>High_lag3</th>\n",
              "      <th>High_mean_lag3</th>\n",
              "      <th>High_std_lag3</th>\n",
              "      <th>Low_lag3</th>\n",
              "      <th>Low_mean_lag3</th>\n",
              "      <th>Low_std_lag3</th>\n",
              "      <th>day</th>\n",
              "      <th>Month</th>\n",
              "      <th>day_of_week</th>\n",
              "      <th>year</th>\n",
              "    </tr>\n",
              "    <tr>\n",
              "      <th>Date</th>\n",
              "      <th></th>\n",
              "      <th></th>\n",
              "      <th></th>\n",
              "      <th></th>\n",
              "      <th></th>\n",
              "      <th></th>\n",
              "      <th></th>\n",
              "      <th></th>\n",
              "      <th></th>\n",
              "      <th></th>\n",
              "      <th></th>\n",
              "      <th></th>\n",
              "      <th></th>\n",
              "      <th></th>\n",
              "      <th></th>\n",
              "      <th></th>\n",
              "      <th></th>\n",
              "      <th></th>\n",
              "      <th></th>\n",
              "      <th></th>\n",
              "      <th></th>\n",
              "      <th></th>\n",
              "    </tr>\n",
              "  </thead>\n",
              "  <tbody>\n",
              "    <tr>\n",
              "      <th>2000-01-03</th>\n",
              "      <td>254.00</td>\n",
              "      <td>260.0</td>\n",
              "      <td>273.25</td>\n",
              "      <td>250.00</td>\n",
              "      <td>267.35</td>\n",
              "      <td>270.85</td>\n",
              "      <td>258.55</td>\n",
              "      <td>23700</td>\n",
              "      <td>6.127648e+11</td>\n",
              "      <td>40210.116042</td>\n",
              "      <td>1.454141e+06</td>\n",
              "      <td>0.489827</td>\n",
              "      <td>324.821320</td>\n",
              "      <td>324.821320</td>\n",
              "      <td>5.096461</td>\n",
              "      <td>313.431000</td>\n",
              "      <td>313.431000</td>\n",
              "      <td>4.992313</td>\n",
              "      <td>3</td>\n",
              "      <td>1</td>\n",
              "      <td>0</td>\n",
              "      <td>2000</td>\n",
              "    </tr>\n",
              "    <tr>\n",
              "      <th>2000-01-04</th>\n",
              "      <td>270.85</td>\n",
              "      <td>260.0</td>\n",
              "      <td>268.00</td>\n",
              "      <td>254.10</td>\n",
              "      <td>267.00</td>\n",
              "      <td>264.40</td>\n",
              "      <td>259.80</td>\n",
              "      <td>24400</td>\n",
              "      <td>6.339112e+11</td>\n",
              "      <td>40210.116042</td>\n",
              "      <td>1.454141e+06</td>\n",
              "      <td>0.489827</td>\n",
              "      <td>273.250000</td>\n",
              "      <td>273.250000</td>\n",
              "      <td>5.096461</td>\n",
              "      <td>250.000000</td>\n",
              "      <td>250.000000</td>\n",
              "      <td>4.992313</td>\n",
              "      <td>4</td>\n",
              "      <td>1</td>\n",
              "      <td>1</td>\n",
              "      <td>2000</td>\n",
              "    </tr>\n",
              "    <tr>\n",
              "      <th>2000-01-05</th>\n",
              "      <td>264.40</td>\n",
              "      <td>264.9</td>\n",
              "      <td>265.00</td>\n",
              "      <td>257.00</td>\n",
              "      <td>261.35</td>\n",
              "      <td>261.30</td>\n",
              "      <td>260.66</td>\n",
              "      <td>18900</td>\n",
              "      <td>4.926382e+11</td>\n",
              "      <td>40210.116042</td>\n",
              "      <td>1.454141e+06</td>\n",
              "      <td>0.489827</td>\n",
              "      <td>270.625000</td>\n",
              "      <td>270.625000</td>\n",
              "      <td>3.712311</td>\n",
              "      <td>252.050003</td>\n",
              "      <td>252.050003</td>\n",
              "      <td>2.899138</td>\n",
              "      <td>5</td>\n",
              "      <td>1</td>\n",
              "      <td>2</td>\n",
              "      <td>2000</td>\n",
              "    </tr>\n",
              "    <tr>\n",
              "      <th>2000-01-06</th>\n",
              "      <td>261.30</td>\n",
              "      <td>258.0</td>\n",
              "      <td>263.00</td>\n",
              "      <td>256.05</td>\n",
              "      <td>263.00</td>\n",
              "      <td>260.10</td>\n",
              "      <td>259.81</td>\n",
              "      <td>18150</td>\n",
              "      <td>4.715515e+11</td>\n",
              "      <td>40210.116042</td>\n",
              "      <td>1.454141e+06</td>\n",
              "      <td>0.489827</td>\n",
              "      <td>268.750000</td>\n",
              "      <td>268.750000</td>\n",
              "      <td>4.175823</td>\n",
              "      <td>253.699997</td>\n",
              "      <td>253.699997</td>\n",
              "      <td>3.517101</td>\n",
              "      <td>6</td>\n",
              "      <td>1</td>\n",
              "      <td>3</td>\n",
              "      <td>2000</td>\n",
              "    </tr>\n",
              "    <tr>\n",
              "      <th>2000-01-07</th>\n",
              "      <td>260.10</td>\n",
              "      <td>259.9</td>\n",
              "      <td>267.00</td>\n",
              "      <td>253.25</td>\n",
              "      <td>267.00</td>\n",
              "      <td>264.45</td>\n",
              "      <td>260.11</td>\n",
              "      <td>17650</td>\n",
              "      <td>4.590902e+11</td>\n",
              "      <td>40210.116042</td>\n",
              "      <td>1.454141e+06</td>\n",
              "      <td>0.489827</td>\n",
              "      <td>265.333344</td>\n",
              "      <td>265.333344</td>\n",
              "      <td>2.516612</td>\n",
              "      <td>255.716660</td>\n",
              "      <td>255.716660</td>\n",
              "      <td>1.478456</td>\n",
              "      <td>7</td>\n",
              "      <td>1</td>\n",
              "      <td>4</td>\n",
              "      <td>2000</td>\n",
              "    </tr>\n",
              "  </tbody>\n",
              "</table>\n",
              "</div>"
            ],
            "text/plain": [
              "            Prev Close   Open    High     Low  ...  day  Month  day_of_week  year\n",
              "Date                                           ...                               \n",
              "2000-01-03      254.00  260.0  273.25  250.00  ...    3      1            0  2000\n",
              "2000-01-04      270.85  260.0  268.00  254.10  ...    4      1            1  2000\n",
              "2000-01-05      264.40  264.9  265.00  257.00  ...    5      1            2  2000\n",
              "2000-01-06      261.30  258.0  263.00  256.05  ...    6      1            3  2000\n",
              "2000-01-07      260.10  259.9  267.00  253.25  ...    7      1            4  2000\n",
              "\n",
              "[5 rows x 22 columns]"
            ]
          },
          "metadata": {},
          "execution_count": 19
        }
      ]
    },
    {
      "cell_type": "code",
      "metadata": {
        "colab": {
          "base_uri": "https://localhost:8080/",
          "height": 690
        },
        "id": "ciRvomULq6wE",
        "outputId": "522d5eb5-478e-479e-8cb7-a6bccd3c0072"
      },
      "source": [
        "plt.figure(figsize = (20,10))       \n",
        "sns.heatmap(df.corr(),annot = True)"
      ],
      "id": "ciRvomULq6wE",
      "execution_count": 20,
      "outputs": [
        {
          "output_type": "execute_result",
          "data": {
            "text/plain": [
              "<matplotlib.axes._subplots.AxesSubplot at 0x7f2dd0d87cd0>"
            ]
          },
          "metadata": {},
          "execution_count": 20
        },
        {
          "output_type": "display_data",
          "data": {
            "image/png": "[encoded data removed]",
            "text/plain": [
              "<Figure size 1440x720 with 2 Axes>"
            ]
          },
          "metadata": {
            "needs_background": "light"
          }
        }
      ]
    },
    {
      "cell_type": "code",
      "metadata": {
        "id": "0eYrJFePo3BX"
      },
      "source": [
        "y = df[\"VWAP\"]"
      ],
      "id": "0eYrJFePo3BX",
      "execution_count": 21,
      "outputs": []
    },
    {
      "cell_type": "code",
      "metadata": {
        "id": "OqPSHJs3pAZ7"
      },
      "source": [
        "X = df.drop(columns=['VWAP'])"
      ],
      "id": "OqPSHJs3pAZ7",
      "execution_count": 22,
      "outputs": []
    },
    {
      "cell_type": "markdown",
      "metadata": {
        "id": "aH7nc1JerZg0"
      },
      "source": [
        "### Using sklearn library \n"
      ],
      "id": "aH7nc1JerZg0"
    },
    {
      "cell_type": "code",
      "metadata": {
        "id": "homVrBe1pHSF"
      },
      "source": [
        "from sklearn.model_selection import train_test_split\n",
        "X_train, X_test, y_train, y_test = train_test_split(X,y, test_size=0.35, random_state=42)"
      ],
      "id": "homVrBe1pHSF",
      "execution_count": 23,
      "outputs": []
    },
    {
      "cell_type": "code",
      "metadata": {
        "id": "WsefwsvPpc25"
      },
      "source": [
        "from sklearn.linear_model import LinearRegression"
      ],
      "id": "WsefwsvPpc25",
      "execution_count": 24,
      "outputs": []
    },
    {
      "cell_type": "code",
      "metadata": {
        "colab": {
          "base_uri": "https://localhost:8080/"
        },
        "id": "1fBuIOgapgOv",
        "outputId": "e072b980-35c6-42d1-e58b-10003420360c"
      },
      "source": [
        "reg = LinearRegression().fit(X_train,y_train)\n",
        "reg.score(X_test,y_test)"
      ],
      "id": "1fBuIOgapgOv",
      "execution_count": 25,
      "outputs": [
        {
          "output_type": "execute_result",
          "data": {
            "text/plain": [
              "0.9998237388305045"
            ]
          },
          "metadata": {},
          "execution_count": 25
        }
      ]
    }
  ]
}
